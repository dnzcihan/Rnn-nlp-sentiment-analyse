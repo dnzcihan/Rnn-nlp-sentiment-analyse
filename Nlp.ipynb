{
 "cells": [
  {
   "cell_type": "code",
   "execution_count": 3,
   "metadata": {},
   "outputs": [],
   "source": [
    "import pandas as pd\n",
    "import imp\n",
    "from tensorflow.python.keras.models import Sequential\n",
    "from tensorflow.python.keras.layers import Dense, GRU, Embedding\n",
    "from tensorflow.python.keras.optimizers import Adam\n",
    "from tensorflow.python.keras.preprocessing.text import Tokenizer\n",
    "from tensorflow.python.keras.preprocessing.sequence import pad_sequences\n",
    "import matplotlib.pyplot as plt\n",
    "import tensorflow as tf\n",
    "import numpy as np\n",
    "from scipy.spatial.distance import cdist\n",
    "from sklearn.model_selection import train_test_split\n",
    "import nltk\n",
    "import mlflow"
   ]
  },
  {
   "cell_type": "code",
   "execution_count": 4,
   "metadata": {},
   "outputs": [],
   "source": [
    "data = pd.read_csv('Womens Clothing E-Commerce Reviews.csv',index_col=0)"
   ]
  },
  {
   "cell_type": "code",
   "execution_count": 5,
   "metadata": {},
   "outputs": [],
   "source": [
    "data1=data.copy()\n",
    "data1['review'] = data1['Review Text']\n",
    "data1['reco'] = data1['Recommended IND']"
   ]
  },
  {
   "cell_type": "code",
   "execution_count": 6,
   "metadata": {},
   "outputs": [
    {
     "data": {
      "text/html": [
       "<div>\n",
       "<style scoped>\n",
       "    .dataframe tbody tr th:only-of-type {\n",
       "        vertical-align: middle;\n",
       "    }\n",
       "\n",
       "    .dataframe tbody tr th {\n",
       "        vertical-align: top;\n",
       "    }\n",
       "\n",
       "    .dataframe thead th {\n",
       "        text-align: right;\n",
       "    }\n",
       "</style>\n",
       "<table border=\"1\" class=\"dataframe\">\n",
       "  <thead>\n",
       "    <tr style=\"text-align: right;\">\n",
       "      <th></th>\n",
       "      <th>review</th>\n",
       "      <th>reco</th>\n",
       "    </tr>\n",
       "  </thead>\n",
       "  <tbody>\n",
       "    <tr>\n",
       "      <th>0</th>\n",
       "      <td>Absolutely wonderful - silky and sexy and comf...</td>\n",
       "      <td>1</td>\n",
       "    </tr>\n",
       "    <tr>\n",
       "      <th>1</th>\n",
       "      <td>Love this dress!  it's sooo pretty.  i happene...</td>\n",
       "      <td>1</td>\n",
       "    </tr>\n",
       "    <tr>\n",
       "      <th>2</th>\n",
       "      <td>I had such high hopes for this dress and reall...</td>\n",
       "      <td>0</td>\n",
       "    </tr>\n",
       "    <tr>\n",
       "      <th>3</th>\n",
       "      <td>I love, love, love this jumpsuit. it's fun, fl...</td>\n",
       "      <td>1</td>\n",
       "    </tr>\n",
       "    <tr>\n",
       "      <th>4</th>\n",
       "      <td>This shirt is very flattering to all due to th...</td>\n",
       "      <td>1</td>\n",
       "    </tr>\n",
       "  </tbody>\n",
       "</table>\n",
       "</div>"
      ],
      "text/plain": [
       "                                              review  reco\n",
       "0  Absolutely wonderful - silky and sexy and comf...     1\n",
       "1  Love this dress!  it's sooo pretty.  i happene...     1\n",
       "2  I had such high hopes for this dress and reall...     0\n",
       "3  I love, love, love this jumpsuit. it's fun, fl...     1\n",
       "4  This shirt is very flattering to all due to th...     1"
      ]
     },
     "execution_count": 6,
     "metadata": {},
     "output_type": "execute_result"
    }
   ],
   "source": [
    "data1 = data1[['review','reco']]\n",
    "data1.head()"
   ]
  },
  {
   "cell_type": "code",
   "execution_count": 7,
   "metadata": {},
   "outputs": [
    {
     "data": {
      "text/plain": [
       "'1.10.0'"
      ]
     },
     "execution_count": 7,
     "metadata": {},
     "output_type": "execute_result"
    }
   ],
   "source": [
    "tf.__version__\n"
   ]
  },
  {
   "cell_type": "code",
   "execution_count": 8,
   "metadata": {},
   "outputs": [
    {
     "data": {
      "text/plain": [
       "'2.1.6-tf'"
      ]
     },
     "execution_count": 8,
     "metadata": {},
     "output_type": "execute_result"
    }
   ],
   "source": [
    "tf.keras.__version__\n"
   ]
  },
  {
   "cell_type": "code",
   "execution_count": 9,
   "metadata": {},
   "outputs": [],
   "source": [
    "X = data1['review']\n",
    "y = data1['reco']"
   ]
  },
  {
   "cell_type": "code",
   "execution_count": 10,
   "metadata": {},
   "outputs": [
    {
     "data": {
      "text/html": [
       "<div>\n",
       "<style scoped>\n",
       "    .dataframe tbody tr th:only-of-type {\n",
       "        vertical-align: middle;\n",
       "    }\n",
       "\n",
       "    .dataframe tbody tr th {\n",
       "        vertical-align: top;\n",
       "    }\n",
       "\n",
       "    .dataframe thead th {\n",
       "        text-align: right;\n",
       "    }\n",
       "</style>\n",
       "<table border=\"1\" class=\"dataframe\">\n",
       "  <thead>\n",
       "    <tr style=\"text-align: right;\">\n",
       "      <th></th>\n",
       "      <th>review</th>\n",
       "      <th>reco</th>\n",
       "    </tr>\n",
       "  </thead>\n",
       "  <tbody>\n",
       "    <tr>\n",
       "      <th>0</th>\n",
       "      <td>absolutely wonderful   silky and sexy and comf...</td>\n",
       "      <td>1</td>\n",
       "    </tr>\n",
       "    <tr>\n",
       "      <th>1</th>\n",
       "      <td>love this dress   it s sooo pretty   i happene...</td>\n",
       "      <td>1</td>\n",
       "    </tr>\n",
       "    <tr>\n",
       "      <th>2</th>\n",
       "      <td>i had such high hopes for this dress and reall...</td>\n",
       "      <td>0</td>\n",
       "    </tr>\n",
       "    <tr>\n",
       "      <th>3</th>\n",
       "      <td>i love  love  love this jumpsuit  it s fun  fl...</td>\n",
       "      <td>1</td>\n",
       "    </tr>\n",
       "    <tr>\n",
       "      <th>4</th>\n",
       "      <td>this shirt is very flattering to all due to th...</td>\n",
       "      <td>1</td>\n",
       "    </tr>\n",
       "  </tbody>\n",
       "</table>\n",
       "</div>"
      ],
      "text/plain": [
       "                                              review  reco\n",
       "0  absolutely wonderful   silky and sexy and comf...     1\n",
       "1  love this dress   it s sooo pretty   i happene...     1\n",
       "2  i had such high hopes for this dress and reall...     0\n",
       "3  i love  love  love this jumpsuit  it s fun  fl...     1\n",
       "4  this shirt is very flattering to all due to th...     1"
      ]
     },
     "execution_count": 10,
     "metadata": {},
     "output_type": "execute_result"
    }
   ],
   "source": [
    "import re\n",
    "dlist = []\n",
    "num_words = 10000\n",
    "tokenizer = Tokenizer(num_words=num_words)\n",
    "for description in X:\n",
    "    description=re.sub(\"[^a-zA-Z]\",\" \",str(description))\n",
    "    description = description.lower()\n",
    "    dlist.append(description)\n",
    "    \n",
    "data1['review'] = dlist\n",
    "data1.head()\n"
   ]
  },
  {
   "cell_type": "code",
   "execution_count": 11,
   "metadata": {},
   "outputs": [],
   "source": [
    "\n",
    "X_train, X_test, y_train, y_test = train_test_split(X, y, \n",
    "                                                    test_size=0.50, \n",
    "                                                    random_state=42)"
   ]
  },
  {
   "cell_type": "code",
   "execution_count": null,
   "metadata": {},
   "outputs": [],
   "source": []
  },
  {
   "cell_type": "code",
   "execution_count": 12,
   "metadata": {},
   "outputs": [],
   "source": [
    "tokenizer.fit_on_texts(X)\n"
   ]
  },
  {
   "cell_type": "code",
   "execution_count": 13,
   "metadata": {},
   "outputs": [],
   "source": [
    "if num_words is None:\n",
    "    num_words = len(tokenizer.word_index)"
   ]
  },
  {
   "cell_type": "code",
   "execution_count": 14,
   "metadata": {},
   "outputs": [
    {
     "data": {
      "text/plain": [
       "{'the': 1,\n",
       " 'i': 2,\n",
       " 'it': 3,\n",
       " 'and': 4,\n",
       " 'a': 5,\n",
       " 'is': 6,\n",
       " 'this': 7,\n",
       " 'to': 8,\n",
       " 'in': 9,\n",
       " 'but': 10,\n",
       " 'on': 11,\n",
       " 'for': 12,\n",
       " 'of': 13,\n",
       " 'with': 14,\n",
       " 'was': 15,\n",
       " 'so': 16,\n",
       " 'my': 17,\n",
       " 'dress': 18,\n",
       " 'that': 19,\n",
       " 'not': 20,\n",
       " 's': 21,\n",
       " 'love': 22,\n",
       " 't': 23,\n",
       " 'size': 24,\n",
       " 'very': 25,\n",
       " 'have': 26,\n",
       " 'top': 27,\n",
       " 'fit': 28,\n",
       " 'are': 29,\n",
       " 'like': 30,\n",
       " 'be': 31,\n",
       " 'm': 32,\n",
       " 'as': 33,\n",
       " 'me': 34,\n",
       " 'wear': 35,\n",
       " 'great': 36,\n",
       " 'too': 37,\n",
       " 'or': 38,\n",
       " 'am': 39,\n",
       " 'you': 40,\n",
       " 'just': 41,\n",
       " 'they': 42,\n",
       " 'would': 43,\n",
       " 'up': 44,\n",
       " 'at': 45,\n",
       " 'fabric': 46,\n",
       " 'small': 47,\n",
       " 'color': 48,\n",
       " 'can': 49,\n",
       " 'look': 50,\n",
       " 'if': 51,\n",
       " 'more': 52,\n",
       " 'really': 53,\n",
       " 'ordered': 54,\n",
       " 'little': 55,\n",
       " 'perfect': 56,\n",
       " 'one': 57,\n",
       " 'will': 58,\n",
       " 'these': 59,\n",
       " 'flattering': 60,\n",
       " 'well': 61,\n",
       " 'an': 62,\n",
       " 'soft': 63,\n",
       " 'out': 64,\n",
       " 'back': 65,\n",
       " 'because': 66,\n",
       " 'had': 67,\n",
       " 'comfortable': 68,\n",
       " 'cute': 69,\n",
       " 'nice': 70,\n",
       " 'than': 71,\n",
       " 'bought': 72,\n",
       " 'beautiful': 73,\n",
       " 'when': 74,\n",
       " 'all': 75,\n",
       " 'looks': 76,\n",
       " 'bit': 77,\n",
       " 'fits': 78,\n",
       " 'large': 79,\n",
       " 'shirt': 80,\n",
       " 'down': 81,\n",
       " 'which': 82,\n",
       " 'material': 83,\n",
       " 'much': 84,\n",
       " 'them': 85,\n",
       " 'length': 86,\n",
       " 'also': 87,\n",
       " 'sweater': 88,\n",
       " 'has': 89,\n",
       " 'long': 90,\n",
       " 'got': 91,\n",
       " 'jeans': 92,\n",
       " 'colors': 93,\n",
       " 'petite': 94,\n",
       " 'waist': 95,\n",
       " 'quality': 96,\n",
       " 'medium': 97,\n",
       " 'xs': 98,\n",
       " 'pretty': 99,\n",
       " 'think': 100,\n",
       " 'even': 101,\n",
       " 'retailer': 102,\n",
       " 'work': 103,\n",
       " 'tried': 104,\n",
       " 'from': 105,\n",
       " 'store': 106,\n",
       " 'usually': 107,\n",
       " 'other': 108,\n",
       " 'skirt': 109,\n",
       " 'about': 110,\n",
       " 'there': 111,\n",
       " 'good': 112,\n",
       " 'made': 113,\n",
       " 'pants': 114,\n",
       " 'short': 115,\n",
       " 'could': 116,\n",
       " 'get': 117,\n",
       " 'lbs': 118,\n",
       " 'way': 119,\n",
       " 'only': 120,\n",
       " 'big': 121,\n",
       " 'cut': 122,\n",
       " 'don': 123,\n",
       " 'see': 124,\n",
       " 'didn': 125,\n",
       " 'black': 126,\n",
       " 'still': 127,\n",
       " 'were': 128,\n",
       " 'right': 129,\n",
       " 'super': 130,\n",
       " 'true': 131,\n",
       " 'did': 132,\n",
       " 'runs': 133,\n",
       " 'style': 134,\n",
       " 'do': 135,\n",
       " 'sleeves': 136,\n",
       " 'online': 137,\n",
       " 'no': 138,\n",
       " 'summer': 139,\n",
       " 'purchased': 140,\n",
       " 'white': 141,\n",
       " 'wearing': 142,\n",
       " 'design': 143,\n",
       " 'however': 144,\n",
       " 'does': 145,\n",
       " 'feel': 146,\n",
       " 'off': 147,\n",
       " 'go': 148,\n",
       " 'tight': 149,\n",
       " 'enough': 150,\n",
       " 'perfectly': 151,\n",
       " 'model': 152,\n",
       " 'over': 153,\n",
       " 'some': 154,\n",
       " 'definitely': 155,\n",
       " 'front': 156,\n",
       " 'looked': 157,\n",
       " 'sale': 158,\n",
       " 'though': 159,\n",
       " 'blue': 160,\n",
       " 'price': 161,\n",
       " 'person': 162,\n",
       " 'what': 163,\n",
       " 'loved': 164,\n",
       " 'been': 165,\n",
       " 'how': 166,\n",
       " 'better': 167,\n",
       " 'jacket': 168,\n",
       " 'first': 169,\n",
       " 'body': 170,\n",
       " 'fall': 171,\n",
       " 'your': 172,\n",
       " 'bottom': 173,\n",
       " 'going': 174,\n",
       " 'loose': 175,\n",
       " 'high': 176,\n",
       " 'try': 177,\n",
       " 'd': 178,\n",
       " 'worn': 179,\n",
       " 'around': 180,\n",
       " 'time': 181,\n",
       " 've': 182,\n",
       " 'regular': 183,\n",
       " 'looking': 184,\n",
       " 'shape': 185,\n",
       " 'light': 186,\n",
       " 'many': 187,\n",
       " 'both': 188,\n",
       " 'chest': 189,\n",
       " 'thought': 190,\n",
       " 'make': 191,\n",
       " 'lovely': 192,\n",
       " 'arms': 193,\n",
       " 'wanted': 194,\n",
       " 'saw': 195,\n",
       " 'gorgeous': 196,\n",
       " 'piece': 197,\n",
       " 'shoulders': 198,\n",
       " 'casual': 199,\n",
       " 'thin': 200,\n",
       " 'through': 201,\n",
       " 'makes': 202,\n",
       " 'recommend': 203,\n",
       " 'after': 204,\n",
       " 'without': 205,\n",
       " 'doesn': 206,\n",
       " 'bust': 207,\n",
       " 'compliments': 208,\n",
       " 'pattern': 209,\n",
       " 'need': 210,\n",
       " 'being': 211,\n",
       " 'went': 212,\n",
       " 'side': 213,\n",
       " 'want': 214,\n",
       " 'run': 215,\n",
       " 'tops': 216,\n",
       " 'found': 217,\n",
       " 'blouse': 218,\n",
       " 'find': 219,\n",
       " 'pair': 220,\n",
       " 'bra': 221,\n",
       " 'sure': 222,\n",
       " 'reviews': 223,\n",
       " 'weight': 224,\n",
       " 'wore': 225,\n",
       " 'wish': 226,\n",
       " 'picture': 227,\n",
       " 'print': 228,\n",
       " 'buy': 229,\n",
       " 'hips': 230,\n",
       " 'since': 231,\n",
       " 'usual': 232,\n",
       " 'dresses': 233,\n",
       " 'normally': 234,\n",
       " 'by': 235,\n",
       " 'order': 236,\n",
       " 'comfy': 237,\n",
       " 'received': 238,\n",
       " 'different': 239,\n",
       " 'lot': 240,\n",
       " 'its': 241,\n",
       " 'nan': 242,\n",
       " 'while': 243,\n",
       " 'longer': 244,\n",
       " 'overall': 245,\n",
       " 'any': 246,\n",
       " 'most': 247,\n",
       " 'absolutely': 248,\n",
       " 'may': 249,\n",
       " 'quite': 250,\n",
       " 'fitted': 251,\n",
       " 'detail': 252,\n",
       " 'nicely': 253,\n",
       " 'slightly': 254,\n",
       " 'keep': 255,\n",
       " 'return': 256,\n",
       " 'two': 257,\n",
       " 'day': 258,\n",
       " 'then': 259,\n",
       " 'green': 260,\n",
       " 'red': 261,\n",
       " 'might': 262,\n",
       " 're': 263,\n",
       " 'felt': 264,\n",
       " 'leggings': 265,\n",
       " 'another': 266,\n",
       " 'under': 267,\n",
       " 'underneath': 268,\n",
       " 'wide': 269,\n",
       " 'stretch': 270,\n",
       " 'neck': 271,\n",
       " 'unique': 272,\n",
       " 'easy': 273,\n",
       " 'say': 274,\n",
       " 'wasn': 275,\n",
       " 'now': 276,\n",
       " 'lace': 277,\n",
       " 'fun': 278,\n",
       " 'boxy': 279,\n",
       " 'extra': 280,\n",
       " 'probably': 281,\n",
       " 'happy': 282,\n",
       " 'almost': 283,\n",
       " 'sizing': 284,\n",
       " 'actually': 285,\n",
       " 'photo': 286,\n",
       " 'tank': 287,\n",
       " 'something': 288,\n",
       " 'warm': 289,\n",
       " 'sizes': 290,\n",
       " 'low': 291,\n",
       " 'area': 292,\n",
       " 'smaller': 293,\n",
       " 'sheer': 294,\n",
       " 'fine': 295,\n",
       " 'unfortunately': 296,\n",
       " 'flowy': 297,\n",
       " 'pockets': 298,\n",
       " 'dressed': 299,\n",
       " 'purchase': 300,\n",
       " 'worth': 301,\n",
       " 'feels': 302,\n",
       " 'tee': 303,\n",
       " 'll': 304,\n",
       " 'such': 305,\n",
       " 'into': 306,\n",
       " 'glad': 307,\n",
       " 'full': 308,\n",
       " 'every': 309,\n",
       " 'shorter': 310,\n",
       " 'same': 311,\n",
       " 'between': 312,\n",
       " 'said': 313,\n",
       " 'boots': 314,\n",
       " 'c': 315,\n",
       " 'tall': 316,\n",
       " 'put': 317,\n",
       " 'give': 318,\n",
       " 'sized': 319,\n",
       " 'yet': 320,\n",
       " 'always': 321,\n",
       " 'tts': 322,\n",
       " 'disappointed': 323,\n",
       " 'reference': 324,\n",
       " 'spring': 325,\n",
       " 'everything': 326,\n",
       " 'buttons': 327,\n",
       " 'should': 328,\n",
       " 'navy': 329,\n",
       " 'skinny': 330,\n",
       " 'denim': 331,\n",
       " 'line': 332,\n",
       " 'wait': 333,\n",
       " 'maybe': 334,\n",
       " 'versatile': 335,\n",
       " 'decided': 336,\n",
       " 'larger': 337,\n",
       " 'part': 338,\n",
       " 'neckline': 339,\n",
       " 'adorable': 340,\n",
       " 'liked': 341,\n",
       " 'winter': 342,\n",
       " 'huge': 343,\n",
       " 'above': 344,\n",
       " 'thick': 345,\n",
       " 'p': 346,\n",
       " 'favorite': 347,\n",
       " 'where': 348,\n",
       " 'especially': 349,\n",
       " 'easily': 350,\n",
       " 'fitting': 351,\n",
       " 'returned': 352,\n",
       " 'problem': 353,\n",
       " 'grey': 354,\n",
       " 'shorts': 355,\n",
       " 'figure': 356,\n",
       " 'pink': 357,\n",
       " 'came': 358,\n",
       " 'details': 359,\n",
       " 'heavy': 360,\n",
       " 'b': 361,\n",
       " 'best': 362,\n",
       " 'isn': 363,\n",
       " 'thing': 364,\n",
       " 'snug': 365,\n",
       " 'wash': 366,\n",
       " 'button': 367,\n",
       " 'reviewers': 368,\n",
       " 'seems': 369,\n",
       " 'take': 370,\n",
       " 'slip': 371,\n",
       " 'amazing': 372,\n",
       " 'room': 373,\n",
       " 'coat': 374,\n",
       " 'normal': 375,\n",
       " 'lightweight': 376,\n",
       " 'cotton': 377,\n",
       " 'feminine': 378,\n",
       " 'hem': 379,\n",
       " 'couldn': 380,\n",
       " 'tunic': 381,\n",
       " 'pictured': 382,\n",
       " 'know': 383,\n",
       " 'l': 384,\n",
       " 'few': 385,\n",
       " 'knee': 386,\n",
       " 'knit': 387,\n",
       " 'cardigan': 388,\n",
       " 'cami': 389,\n",
       " 'kind': 390,\n",
       " 'took': 391,\n",
       " 'expected': 392,\n",
       " 'dark': 393,\n",
       " 'reviewer': 394,\n",
       " 'goes': 395,\n",
       " 'torso': 396,\n",
       " 'hit': 397,\n",
       " 'belt': 398,\n",
       " 'embroidery': 399,\n",
       " 'curvy': 400,\n",
       " 'returning': 401,\n",
       " 'beautifully': 402,\n",
       " 'xl': 403,\n",
       " 'arm': 404,\n",
       " 'hits': 405,\n",
       " 'extremely': 406,\n",
       " 'lined': 407,\n",
       " 'lining': 408,\n",
       " 'show': 409,\n",
       " 'frame': 410,\n",
       " 'typically': 411,\n",
       " 'works': 412,\n",
       " 'once': 413,\n",
       " 'although': 414,\n",
       " 'able': 415,\n",
       " 'never': 416,\n",
       " 'before': 417,\n",
       " 'excited': 418,\n",
       " 'legs': 419,\n",
       " 'highly': 420,\n",
       " 'year': 421,\n",
       " 'washed': 422,\n",
       " 'who': 423,\n",
       " 'today': 424,\n",
       " 'anything': 425,\n",
       " 'someone': 426,\n",
       " 'either': 427,\n",
       " 'dd': 428,\n",
       " 'those': 429,\n",
       " 'shown': 430,\n",
       " 'xxs': 431,\n",
       " 'sleeve': 432,\n",
       " 'bad': 433,\n",
       " 'new': 434,\n",
       " 'ended': 435,\n",
       " 'issue': 436,\n",
       " 'sold': 437,\n",
       " 'weather': 438,\n",
       " 'shoulder': 439,\n",
       " 'photos': 440,\n",
       " 'things': 441,\n",
       " 'below': 442,\n",
       " 'already': 443,\n",
       " 'stretchy': 444,\n",
       " 'trying': 445,\n",
       " 'cool': 446,\n",
       " 'gray': 447,\n",
       " 'needed': 448,\n",
       " 'type': 449,\n",
       " 'holes': 450,\n",
       " 'agree': 451,\n",
       " 'tie': 452,\n",
       " 'last': 453,\n",
       " 'zipper': 454,\n",
       " 'hard': 455,\n",
       " 'arrived': 456,\n",
       " 'otherwise': 457,\n",
       " 'fell': 458,\n",
       " 'why': 459,\n",
       " 'layer': 460,\n",
       " 'hoping': 461,\n",
       " 'days': 462,\n",
       " 'exactly': 463,\n",
       " 'brand': 464,\n",
       " 'wardrobe': 465,\n",
       " 'orange': 466,\n",
       " 'cozy': 467,\n",
       " 'suit': 468,\n",
       " 'inches': 469,\n",
       " 'come': 470,\n",
       " 'add': 471,\n",
       " 'due': 472,\n",
       " 'across': 473,\n",
       " 'cheap': 474,\n",
       " 'straps': 475,\n",
       " 'vest': 476,\n",
       " 'skin': 477,\n",
       " 'away': 478,\n",
       " 'sadly': 479,\n",
       " 'local': 480,\n",
       " 'hot': 481,\n",
       " 'swing': 482,\n",
       " 'again': 483,\n",
       " 'unflattering': 484,\n",
       " 'least': 485,\n",
       " 'heels': 486,\n",
       " 'wouldn': 487,\n",
       " 'ever': 488,\n",
       " 'tad': 489,\n",
       " 'sides': 490,\n",
       " 'rather': 491,\n",
       " 'keeping': 492,\n",
       " 'open': 493,\n",
       " 'stylish': 494,\n",
       " 'dry': 495,\n",
       " 'must': 496,\n",
       " 'getting': 497,\n",
       " 'ran': 498,\n",
       " 'vibrant': 499,\n",
       " 'classic': 500,\n",
       " 'plan': 501,\n",
       " 'others': 502,\n",
       " 'straight': 503,\n",
       " 'slim': 504,\n",
       " 'baggy': 505,\n",
       " 'pilcro': 506,\n",
       " 'pictures': 507,\n",
       " 'several': 508,\n",
       " 'plus': 509,\n",
       " 'delicate': 510,\n",
       " 'surprised': 511,\n",
       " 'wonderful': 512,\n",
       " 'pull': 513,\n",
       " 'nothing': 514,\n",
       " 'less': 515,\n",
       " 'touch': 516,\n",
       " 'pounds': 517,\n",
       " 'kept': 518,\n",
       " 'ordering': 519,\n",
       " 'item': 520,\n",
       " 'based': 521,\n",
       " 'roomy': 522,\n",
       " 'waisted': 523,\n",
       " 'seem': 524,\n",
       " 'stunning': 525,\n",
       " 'bright': 526,\n",
       " 'yellow': 527,\n",
       " 'drape': 528,\n",
       " 'simple': 529,\n",
       " 'drapes': 530,\n",
       " 'use': 531,\n",
       " 'years': 532,\n",
       " 'she': 533,\n",
       " 'shirts': 534,\n",
       " 'here': 535,\n",
       " 'cropped': 536,\n",
       " 'hangs': 537,\n",
       " 'sometimes': 538,\n",
       " 'v': 539,\n",
       " 'their': 540,\n",
       " 'available': 541,\n",
       " 'itchy': 542,\n",
       " 'worked': 543,\n",
       " 'review': 544,\n",
       " 'paired': 545,\n",
       " 'night': 546,\n",
       " 'version': 547,\n",
       " 'ankle': 548,\n",
       " 'gives': 549,\n",
       " 'bigger': 550,\n",
       " 'flat': 551,\n",
       " 'instead': 552,\n",
       " 'own': 553,\n",
       " 'myself': 554,\n",
       " 'far': 555,\n",
       " 'skirts': 556,\n",
       " 'seemed': 557,\n",
       " 'tights': 558,\n",
       " 'won': 559,\n",
       " 'times': 560,\n",
       " 'tiny': 561,\n",
       " 'previous': 562,\n",
       " 'buying': 563,\n",
       " 'busty': 564,\n",
       " 'immediately': 565,\n",
       " 'comes': 566,\n",
       " 'oversized': 567,\n",
       " 'special': 568,\n",
       " 'having': 569,\n",
       " 'lots': 570,\n",
       " 'wedding': 571,\n",
       " 'mine': 572,\n",
       " 'mentioned': 573,\n",
       " 'ivory': 574,\n",
       " 'falls': 575,\n",
       " 'making': 576,\n",
       " 'end': 577,\n",
       " 'adds': 578,\n",
       " 'elastic': 579,\n",
       " 'season': 580,\n",
       " 'cover': 581,\n",
       " 'staple': 582,\n",
       " 'lower': 583,\n",
       " 'cold': 584,\n",
       " 'higher': 585,\n",
       " 'athletic': 586,\n",
       " 'completely': 587,\n",
       " 'collar': 588,\n",
       " 'totally': 589,\n",
       " 'sandals': 590,\n",
       " 'flare': 591,\n",
       " 'booties': 592,\n",
       " 'shows': 593,\n",
       " 'mid': 594,\n",
       " 'leg': 595,\n",
       " 'weird': 596,\n",
       " 'texture': 597,\n",
       " 'jean': 598,\n",
       " 'second': 599,\n",
       " 'form': 600,\n",
       " 'stiff': 601,\n",
       " 'knees': 602,\n",
       " 'wool': 603,\n",
       " 'jumpsuit': 604,\n",
       " 'read': 605,\n",
       " 'cream': 606,\n",
       " 'people': 607,\n",
       " 'clothes': 608,\n",
       " 'often': 609,\n",
       " 'else': 610,\n",
       " 'knew': 611,\n",
       " 'curves': 612,\n",
       " 'worried': 613,\n",
       " 'ok': 614,\n",
       " 'used': 615,\n",
       " 'months': 616,\n",
       " 'finally': 617,\n",
       " 'neutral': 618,\n",
       " 'slimming': 619,\n",
       " 'incredibly': 620,\n",
       " 'layering': 621,\n",
       " 'interesting': 622,\n",
       " 'odd': 623,\n",
       " 'thinking': 624,\n",
       " 'eye': 625,\n",
       " 'broad': 626,\n",
       " 'awesome': 627,\n",
       " 'basic': 628,\n",
       " 'similar': 629,\n",
       " 'half': 630,\n",
       " 'linen': 631,\n",
       " 'prefer': 632,\n",
       " 'clothing': 633,\n",
       " 'fact': 634,\n",
       " 'throw': 635,\n",
       " 'sexy': 636,\n",
       " 'hope': 637,\n",
       " 'mind': 638,\n",
       " 'wrong': 639,\n",
       " 'substantial': 640,\n",
       " 'flats': 641,\n",
       " 'hourglass': 642,\n",
       " 'brown': 643,\n",
       " 'bulky': 644,\n",
       " 'inside': 645,\n",
       " 'gotten': 646,\n",
       " 'amount': 647,\n",
       " 'dressy': 648,\n",
       " 'elegant': 649,\n",
       " 'gave': 650,\n",
       " 'deep': 651,\n",
       " 'hip': 652,\n",
       " 'sweaters': 653,\n",
       " 'outfit': 654,\n",
       " 'upper': 655,\n",
       " 'closet': 656,\n",
       " 'rich': 657,\n",
       " 'addition': 658,\n",
       " 'flow': 659,\n",
       " 'maternity': 660,\n",
       " 'next': 661,\n",
       " 'appears': 662,\n",
       " 'armholes': 663,\n",
       " 'point': 664,\n",
       " 'couple': 665,\n",
       " 'home': 666,\n",
       " 'reason': 667,\n",
       " 'mail': 668,\n",
       " 'during': 669,\n",
       " 'close': 670,\n",
       " 'appropriate': 671,\n",
       " 'subtle': 672,\n",
       " 'soon': 673,\n",
       " 'justice': 674,\n",
       " 'depending': 675,\n",
       " 'except': 676,\n",
       " 'tell': 677,\n",
       " 'her': 678,\n",
       " 'washing': 679,\n",
       " 'stripes': 680,\n",
       " 'expect': 681,\n",
       " 'thicker': 682,\n",
       " 'thighs': 683,\n",
       " 'rise': 684,\n",
       " 'somewhat': 685,\n",
       " 'lb': 686,\n",
       " 'until': 687,\n",
       " 'detailing': 688,\n",
       " 'sad': 689,\n",
       " 'pant': 690,\n",
       " 'colored': 691,\n",
       " 'left': 692,\n",
       " 'complaint': 693,\n",
       " 'nude': 694,\n",
       " 'peplum': 695,\n",
       " 'baby': 696,\n",
       " 'hang': 697,\n",
       " 'hand': 698,\n",
       " 'we': 699,\n",
       " 'seam': 700,\n",
       " 'silk': 701,\n",
       " 'yes': 702,\n",
       " 'purple': 703,\n",
       " 'forward': 704,\n",
       " 'case': 705,\n",
       " 'pleased': 706,\n",
       " 'exchange': 707,\n",
       " 'build': 708,\n",
       " 'cannot': 709,\n",
       " 'tent': 710,\n",
       " 'w': 711,\n",
       " 'idea': 712,\n",
       " 'perhaps': 713,\n",
       " 'looser': 714,\n",
       " 'anyway': 715,\n",
       " 'product': 716,\n",
       " 'haven': 717,\n",
       " 'expecting': 718,\n",
       " 'hold': 719,\n",
       " 'fairly': 720,\n",
       " 'maeve': 721,\n",
       " 'bodice': 722,\n",
       " 'place': 723,\n",
       " 'everywhere': 724,\n",
       " 'flows': 725,\n",
       " 'taller': 726,\n",
       " 'fan': 727,\n",
       " 'middle': 728,\n",
       " 'together': 729,\n",
       " 'darker': 730,\n",
       " 'bottoms': 731,\n",
       " 'deal': 732,\n",
       " 'blazer': 733,\n",
       " 'hung': 734,\n",
       " 'classy': 735,\n",
       " 'real': 736,\n",
       " 'inch': 737,\n",
       " 'truly': 738,\n",
       " 'awkward': 739,\n",
       " 'added': 740,\n",
       " 'slight': 741,\n",
       " 'pieces': 742,\n",
       " 'along': 743,\n",
       " 'barely': 744,\n",
       " 'floral': 745,\n",
       " 'spot': 746,\n",
       " 'narrow': 747,\n",
       " 'gold': 748,\n",
       " 'zip': 749,\n",
       " 'office': 750,\n",
       " 'typical': 751,\n",
       " 'gone': 752,\n",
       " 'fabulous': 753,\n",
       " 'sweatshirt': 754,\n",
       " 'heavier': 755,\n",
       " 'butt': 756,\n",
       " 'motif': 757,\n",
       " 'old': 758,\n",
       " 'anyone': 759,\n",
       " 'chic': 760,\n",
       " 'opinion': 761,\n",
       " 'three': 762,\n",
       " 'band': 763,\n",
       " 'feeling': 764,\n",
       " 'sort': 765,\n",
       " 'items': 766,\n",
       " 'imagine': 767,\n",
       " 'tag': 768,\n",
       " 'fantastic': 769,\n",
       " 'romper': 770,\n",
       " 'live': 771,\n",
       " 'issues': 772,\n",
       " 'past': 773,\n",
       " 'pulled': 774,\n",
       " 'noticed': 775,\n",
       " 'waistband': 776,\n",
       " 'tummy': 777,\n",
       " 'whole': 778,\n",
       " 'showing': 779,\n",
       " 'stitching': 780,\n",
       " 'husband': 781,\n",
       " 'seen': 782,\n",
       " 'reading': 783,\n",
       " 'itself': 784,\n",
       " 'women': 785,\n",
       " 'seams': 786,\n",
       " 'belly': 787,\n",
       " 'places': 788,\n",
       " 'unless': 789,\n",
       " 'meant': 790,\n",
       " 'leather': 791,\n",
       " 'lay': 792,\n",
       " 'sewn': 793,\n",
       " 'pairs': 794,\n",
       " 'chested': 795,\n",
       " 'styling': 796,\n",
       " 'strange': 797,\n",
       " 'says': 798,\n",
       " 'needs': 799,\n",
       " 'comfort': 800,\n",
       " 'running': 801,\n",
       " 'each': 802,\n",
       " 'coverage': 803,\n",
       " 'weekend': 804,\n",
       " 'lighter': 805,\n",
       " 'party': 806,\n",
       " 'generally': 807,\n",
       " 'transition': 808,\n",
       " 'scratchy': 809,\n",
       " 'excellent': 810,\n",
       " 'rest': 811,\n",
       " 'necklace': 812,\n",
       " 'please': 813,\n",
       " 'done': 814,\n",
       " 'clingy': 815,\n",
       " 'relaxed': 816,\n",
       " 'believe': 817,\n",
       " 'aren': 818,\n",
       " 'stay': 819,\n",
       " 'stars': 820,\n",
       " 'girls': 821,\n",
       " 'pregnant': 822,\n",
       " 'wider': 823,\n",
       " 'glove': 824,\n",
       " 'beach': 825,\n",
       " 'frumpy': 826,\n",
       " 'height': 827,\n",
       " 'caught': 828,\n",
       " 'cup': 829,\n",
       " 'tucked': 830,\n",
       " 'difficult': 831,\n",
       " 'slender': 832,\n",
       " 'portion': 833,\n",
       " 'ago': 834,\n",
       " 'dinner': 835,\n",
       " 'sack': 836,\n",
       " 'girl': 837,\n",
       " 'chance': 838,\n",
       " 'lines': 839,\n",
       " 'airy': 840,\n",
       " 'help': 841,\n",
       " 'coral': 842,\n",
       " 'finding': 843,\n",
       " 'seasons': 844,\n",
       " 'forgiving': 845,\n",
       " 'maxi': 846,\n",
       " 'bag': 847,\n",
       " 'house': 848,\n",
       " 'slits': 849,\n",
       " 'everyone': 850,\n",
       " 'plenty': 851,\n",
       " 'th': 852,\n",
       " 'shaped': 853,\n",
       " 'silhouette': 854,\n",
       " 'expensive': 855,\n",
       " 'money': 856,\n",
       " 'tailored': 857,\n",
       " 'let': 858,\n",
       " 'care': 859,\n",
       " 'simply': 860,\n",
       " 'daughter': 861,\n",
       " 'clean': 862,\n",
       " 'camisole': 863,\n",
       " 'description': 864,\n",
       " 'prettier': 865,\n",
       " 'keeper': 866,\n",
       " 'stock': 867,\n",
       " 'stomach': 868,\n",
       " 'solid': 869,\n",
       " 'pear': 870,\n",
       " 'pleats': 871,\n",
       " 'hide': 872,\n",
       " 'swingy': 873,\n",
       " 'silky': 874,\n",
       " 'etc': 875,\n",
       " 'option': 876,\n",
       " 'wow': 877,\n",
       " 'cooler': 878,\n",
       " 'shade': 879,\n",
       " 'structured': 880,\n",
       " 'guess': 881,\n",
       " 'life': 882,\n",
       " 'thigh': 883,\n",
       " 'adore': 884,\n",
       " 'given': 885,\n",
       " 'hanging': 886,\n",
       " 'average': 887,\n",
       " 'ladies': 888,\n",
       " 'natural': 889,\n",
       " 'despite': 890,\n",
       " 'send': 891,\n",
       " 'round': 892,\n",
       " 'ft': 893,\n",
       " 'website': 894,\n",
       " 'wrinkle': 895,\n",
       " 'note': 896,\n",
       " 'yesterday': 897,\n",
       " 'hole': 898,\n",
       " 'beige': 899,\n",
       " 'purchasing': 900,\n",
       " 'plaid': 901,\n",
       " 'uncomfortable': 902,\n",
       " 'polyester': 903,\n",
       " 'pencil': 904,\n",
       " 'considering': 905,\n",
       " 'disappointing': 906,\n",
       " 'originally': 907,\n",
       " 'jackets': 908,\n",
       " 'dressing': 909,\n",
       " 'ag': 910,\n",
       " 'plain': 911,\n",
       " 'layered': 912,\n",
       " 'surprise': 913,\n",
       " 'ruffle': 914,\n",
       " 'recently': 915,\n",
       " 'beading': 916,\n",
       " 'patterns': 917,\n",
       " 'oh': 918,\n",
       " 'afraid': 919,\n",
       " 'woman': 920,\n",
       " 'flowers': 921,\n",
       " 'sit': 922,\n",
       " 'hanger': 923,\n",
       " 'shapeless': 924,\n",
       " 'poor': 925,\n",
       " 'flowing': 926,\n",
       " 'pass': 927,\n",
       " 'pricey': 928,\n",
       " 'designed': 929,\n",
       " 'layers': 930,\n",
       " 'ways': 931,\n",
       " 'us': 932,\n",
       " 'swimming': 933,\n",
       " 'tend': 934,\n",
       " 'sent': 935,\n",
       " 'week': 936,\n",
       " 'pay': 937,\n",
       " 'sweet': 938,\n",
       " 'covers': 939,\n",
       " 'pale': 940,\n",
       " 'hides': 941,\n",
       " 'holiday': 942,\n",
       " 'stretched': 943,\n",
       " 'slit': 944,\n",
       " 'snag': 945,\n",
       " 'stated': 946,\n",
       " 'okay': 947,\n",
       " 'twice': 948,\n",
       " 'everyday': 949,\n",
       " 'coming': 950,\n",
       " 'machine': 951,\n",
       " 'flares': 952,\n",
       " 'receive': 953,\n",
       " 'weeks': 954,\n",
       " 'gets': 955,\n",
       " 'section': 956,\n",
       " 'shoes': 957,\n",
       " 'consider': 958,\n",
       " 'crazy': 959,\n",
       " 'throughout': 960,\n",
       " 'supposed': 961,\n",
       " 'helps': 962,\n",
       " 'stand': 963,\n",
       " 'tighter': 964,\n",
       " 'flatter': 965,\n",
       " 'billowy': 966,\n",
       " 'cuter': 967,\n",
       " 'petites': 968,\n",
       " 'shrink': 969,\n",
       " 'trim': 970,\n",
       " 'moss': 971,\n",
       " 'evening': 972,\n",
       " 'scarf': 973,\n",
       " 'tons': 974,\n",
       " 'picked': 975,\n",
       " 'wrap': 976,\n",
       " 'feet': 977,\n",
       " 'package': 978,\n",
       " 'fence': 979,\n",
       " 'hoped': 980,\n",
       " 'against': 981,\n",
       " 'hesitant': 982,\n",
       " 'lays': 983,\n",
       " 'rayon': 984,\n",
       " 'movement': 985,\n",
       " 'poncho': 986,\n",
       " 'velvet': 987,\n",
       " 'shrunk': 988,\n",
       " 'match': 989,\n",
       " 'combination': 990,\n",
       " 'styles': 991,\n",
       " 'stripe': 992,\n",
       " 'attractive': 993,\n",
       " 'embroidered': 994,\n",
       " 'water': 995,\n",
       " 'taking': 996,\n",
       " 'garment': 997,\n",
       " 'turtleneck': 998,\n",
       " 'warmer': 999,\n",
       " 'near': 1000,\n",
       " ...}"
      ]
     },
     "execution_count": 14,
     "metadata": {},
     "output_type": "execute_result"
    }
   ],
   "source": [
    "tokenizer.word_index\n"
   ]
  },
  {
   "cell_type": "code",
   "execution_count": 15,
   "metadata": {},
   "outputs": [],
   "source": [
    "x_train_tokens = tokenizer.texts_to_sequences(X_train)\n"
   ]
  },
  {
   "cell_type": "code",
   "execution_count": 16,
   "metadata": {},
   "outputs": [
    {
     "data": {
      "text/plain": [
       "'love this dress   it s sooo pretty   i happened to find it in a store  and i m glad i did bc i never would have ordered it online bc it s petite   i bought a petite and am        i love the length on me  hits just a little below the knee   would definitely be a true midi on someone who is truly petite '"
      ]
     },
     "execution_count": 16,
     "metadata": {},
     "output_type": "execute_result"
    }
   ],
   "source": [
    "X_train[1]\n"
   ]
  },
  {
   "cell_type": "code",
   "execution_count": 17,
   "metadata": {},
   "outputs": [
    {
     "data": {
      "text/plain": [
       "array([ 163,    5,  938,   80,    1, 3534,  209,    6,  340,    4,   42,\n",
       "         26,    5,   69, 2705,  209,   19,    2,  182,  120,  782,   16,\n",
       "        555,    9,    1,  106,    1,   28,    6,   47,    2,  319,   44,\n",
       "        105,   17,  375,    8,    5,   10,  116,   26,  101,  752,    8,\n",
       "          5,   33,  111,  275,   23,   84, 1063,  312,    1,    4,    1,\n",
       "        676,    9,   86])"
      ]
     },
     "execution_count": 17,
     "metadata": {},
     "output_type": "execute_result"
    }
   ],
   "source": [
    "np.array(x_train_tokens[1])\n"
   ]
  },
  {
   "cell_type": "code",
   "execution_count": 18,
   "metadata": {},
   "outputs": [],
   "source": [
    "x_test_tokens = tokenizer.texts_to_sequences(X_test)\n"
   ]
  },
  {
   "cell_type": "code",
   "execution_count": 19,
   "metadata": {},
   "outputs": [
    {
     "data": {
      "text/plain": [
       "58.46351017627523"
      ]
     },
     "execution_count": 19,
     "metadata": {},
     "output_type": "execute_result"
    }
   ],
   "source": [
    "num_tokens = [len(tokens) for tokens in x_train_tokens + x_test_tokens]\n",
    "num_tokens = np.array(num_tokens)\n",
    "np.mean(num_tokens)\n"
   ]
  },
  {
   "cell_type": "code",
   "execution_count": 20,
   "metadata": {},
   "outputs": [
    {
     "data": {
      "text/plain": [
       "116"
      ]
     },
     "execution_count": 20,
     "metadata": {},
     "output_type": "execute_result"
    }
   ],
   "source": [
    "np.max(num_tokens)\n"
   ]
  },
  {
   "cell_type": "code",
   "execution_count": 21,
   "metadata": {},
   "outputs": [
    {
     "data": {
      "text/plain": [
       "119"
      ]
     },
     "execution_count": 21,
     "metadata": {},
     "output_type": "execute_result"
    }
   ],
   "source": [
    "max_tokens = np.mean(num_tokens) + 2 * np.std(num_tokens)\n",
    "max_tokens = int(max_tokens)\n",
    "max_tokens"
   ]
  },
  {
   "cell_type": "code",
   "execution_count": 22,
   "metadata": {},
   "outputs": [
    {
     "data": {
      "text/plain": [
       "1.0"
      ]
     },
     "execution_count": 22,
     "metadata": {},
     "output_type": "execute_result"
    }
   ],
   "source": [
    "np.sum(num_tokens < max_tokens) / len(num_tokens)\n"
   ]
  },
  {
   "cell_type": "code",
   "execution_count": 23,
   "metadata": {},
   "outputs": [],
   "source": [
    "pad = 'pre'\n",
    "x_train_pad = pad_sequences(x_train_tokens, maxlen=max_tokens,\n",
    "                            padding=pad, truncating=pad)\n",
    "x_test_pad = pad_sequences(x_test_tokens, maxlen=max_tokens,\n",
    "                           padding=pad, truncating=pad)"
   ]
  },
  {
   "cell_type": "code",
   "execution_count": 24,
   "metadata": {},
   "outputs": [
    {
     "data": {
      "text/plain": [
       "(11743, 119)"
      ]
     },
     "execution_count": 24,
     "metadata": {},
     "output_type": "execute_result"
    }
   ],
   "source": [
    "x_train_pad.shape\n"
   ]
  },
  {
   "cell_type": "code",
   "execution_count": 25,
   "metadata": {},
   "outputs": [
    {
     "data": {
      "text/plain": [
       "(11743, 119)"
      ]
     },
     "execution_count": 25,
     "metadata": {},
     "output_type": "execute_result"
    }
   ],
   "source": [
    "x_test_pad.shape\n"
   ]
  },
  {
   "cell_type": "code",
   "execution_count": 26,
   "metadata": {},
   "outputs": [
    {
     "data": {
      "text/plain": [
       "array([ 163,    5,  938,   80,    1, 3534,  209,    6,  340,    4,   42,\n",
       "         26,    5,   69, 2705,  209,   19,    2,  182,  120,  782,   16,\n",
       "        555,    9,    1,  106,    1,   28,    6,   47,    2,  319,   44,\n",
       "        105,   17,  375,    8,    5,   10,  116,   26,  101,  752,    8,\n",
       "          5,   33,  111,  275,   23,   84, 1063,  312,    1,    4,    1,\n",
       "        676,    9,   86])"
      ]
     },
     "execution_count": 26,
     "metadata": {},
     "output_type": "execute_result"
    }
   ],
   "source": [
    "np.array(x_train_tokens[1])\n"
   ]
  },
  {
   "cell_type": "code",
   "execution_count": 27,
   "metadata": {},
   "outputs": [
    {
     "data": {
      "text/plain": [
       "array([   0,    0,    0,    0,    0,    0,    0,    0,    0,    0,    0,\n",
       "          0,    0,    0,    0,    0,    0,    0,    0,    0,    0,    0,\n",
       "          0,    0,    0,    0,    0,    0,    0,    0,    0,    0,    0,\n",
       "          0,    0,    0,    0,    0,    0,    0,    0,    0,    0,    0,\n",
       "          0,    0,    0,    0,    0,    0,    0,    0,    0,    0,    0,\n",
       "          0,    0,    0,    0,    0,    0,  163,    5,  938,   80,    1,\n",
       "       3534,  209,    6,  340,    4,   42,   26,    5,   69, 2705,  209,\n",
       "         19,    2,  182,  120,  782,   16,  555,    9,    1,  106,    1,\n",
       "         28,    6,   47,    2,  319,   44,  105,   17,  375,    8,    5,\n",
       "         10,  116,   26,  101,  752,    8,    5,   33,  111,  275,   23,\n",
       "         84, 1063,  312,    1,    4,    1,  676,    9,   86], dtype=int32)"
      ]
     },
     "execution_count": 27,
     "metadata": {},
     "output_type": "execute_result"
    }
   ],
   "source": [
    "x_train_pad[1]\n"
   ]
  },
  {
   "cell_type": "code",
   "execution_count": 28,
   "metadata": {},
   "outputs": [],
   "source": [
    "idx = tokenizer.word_index\n",
    "inverse_map = dict(zip(idx.values(), idx.keys()))"
   ]
  },
  {
   "cell_type": "code",
   "execution_count": 29,
   "metadata": {},
   "outputs": [],
   "source": [
    "def tokens_to_string(tokens):\n",
    "    # Map from tokens back to words.\n",
    "    words = [inverse_map[token] for token in tokens if token != 0]\n",
    "    \n",
    "    # Concatenate all words.\n",
    "    text = \" \".join(words)\n",
    "\n",
    "    return text"
   ]
  },
  {
   "cell_type": "code",
   "execution_count": 30,
   "metadata": {},
   "outputs": [
    {
     "data": {
      "text/plain": [
       "'love this dress   it s sooo pretty   i happened to find it in a store  and i m glad i did bc i never would have ordered it online bc it s petite   i bought a petite and am        i love the length on me  hits just a little below the knee   would definitely be a true midi on someone who is truly petite '"
      ]
     },
     "execution_count": 30,
     "metadata": {},
     "output_type": "execute_result"
    }
   ],
   "source": [
    "X[1]\n"
   ]
  },
  {
   "cell_type": "code",
   "execution_count": 31,
   "metadata": {},
   "outputs": [
    {
     "data": {
      "text/plain": [
       "'what a sweet shirt the ski pattern is adorable and they have a cute cat pattern that i ve only seen so far in the store the fit is small i sized up from my normal to a but could have even gone to a as there wasn t much difference between the and the except in length'"
      ]
     },
     "execution_count": 31,
     "metadata": {},
     "output_type": "execute_result"
    }
   ],
   "source": [
    "tokens_to_string(x_train_tokens[1])\n"
   ]
  },
  {
   "cell_type": "code",
   "execution_count": 32,
   "metadata": {},
   "outputs": [
    {
     "name": "stderr",
     "output_type": "stream",
     "text": [
      "/anaconda3/lib/python3.6/site-packages/tensorflow/python/util/tf_inspect.py:75: DeprecationWarning: inspect.getargspec() is deprecated, use inspect.signature() or inspect.getfullargspec()\n",
      "  return _inspect.getargspec(target)\n"
     ]
    }
   ],
   "source": [
    "model = Sequential()\n",
    "embedding_size = 8\n",
    "model.add(Embedding(input_dim=num_words,\n",
    "                    output_dim=embedding_size,\n",
    "                    input_length=max_tokens,\n",
    "                    name='layer_embedding'))"
   ]
  },
  {
   "cell_type": "code",
   "execution_count": 33,
   "metadata": {},
   "outputs": [
    {
     "name": "stderr",
     "output_type": "stream",
     "text": [
      "/anaconda3/lib/python3.6/site-packages/tensorflow/python/util/tf_inspect.py:75: DeprecationWarning: inspect.getargspec() is deprecated, use inspect.signature() or inspect.getfullargspec()\n",
      "  return _inspect.getargspec(target)\n"
     ]
    }
   ],
   "source": [
    "model.add(GRU(units=16, return_sequences=True))\n"
   ]
  },
  {
   "cell_type": "code",
   "execution_count": 34,
   "metadata": {},
   "outputs": [
    {
     "name": "stderr",
     "output_type": "stream",
     "text": [
      "/anaconda3/lib/python3.6/site-packages/tensorflow/python/util/tf_inspect.py:75: DeprecationWarning: inspect.getargspec() is deprecated, use inspect.signature() or inspect.getfullargspec()\n",
      "  return _inspect.getargspec(target)\n"
     ]
    }
   ],
   "source": [
    "model.add(GRU(units=8, return_sequences=True))\n"
   ]
  },
  {
   "cell_type": "code",
   "execution_count": 35,
   "metadata": {},
   "outputs": [
    {
     "name": "stderr",
     "output_type": "stream",
     "text": [
      "/anaconda3/lib/python3.6/site-packages/tensorflow/python/util/tf_inspect.py:75: DeprecationWarning: inspect.getargspec() is deprecated, use inspect.signature() or inspect.getfullargspec()\n",
      "  return _inspect.getargspec(target)\n"
     ]
    }
   ],
   "source": [
    "model.add(GRU(units=4))\n"
   ]
  },
  {
   "cell_type": "code",
   "execution_count": 36,
   "metadata": {},
   "outputs": [
    {
     "name": "stderr",
     "output_type": "stream",
     "text": [
      "/anaconda3/lib/python3.6/site-packages/tensorflow/python/util/tf_inspect.py:75: DeprecationWarning: inspect.getargspec() is deprecated, use inspect.signature() or inspect.getfullargspec()\n",
      "  return _inspect.getargspec(target)\n"
     ]
    }
   ],
   "source": [
    "model.add(Dense(1, activation='sigmoid'))\n"
   ]
  },
  {
   "cell_type": "code",
   "execution_count": 37,
   "metadata": {},
   "outputs": [],
   "source": [
    "optimizer = Adam(lr=1e-3)\n"
   ]
  },
  {
   "cell_type": "code",
   "execution_count": 38,
   "metadata": {},
   "outputs": [],
   "source": [
    "model.compile(loss='binary_crossentropy',\n",
    "              optimizer=optimizer,\n",
    "              metrics=['accuracy'])"
   ]
  },
  {
   "cell_type": "code",
   "execution_count": 39,
   "metadata": {},
   "outputs": [
    {
     "name": "stdout",
     "output_type": "stream",
     "text": [
      "_________________________________________________________________\n",
      "Layer (type)                 Output Shape              Param #   \n",
      "=================================================================\n",
      "layer_embedding (Embedding)  (None, 119, 8)            80000     \n",
      "_________________________________________________________________\n",
      "gru (GRU)                    (None, 119, 16)           1200      \n",
      "_________________________________________________________________\n",
      "gru_1 (GRU)                  (None, 119, 8)            600       \n",
      "_________________________________________________________________\n",
      "gru_2 (GRU)                  (None, 4)                 156       \n",
      "_________________________________________________________________\n",
      "dense (Dense)                (None, 1)                 5         \n",
      "=================================================================\n",
      "Total params: 81,961\n",
      "Trainable params: 81,961\n",
      "Non-trainable params: 0\n",
      "_________________________________________________________________\n"
     ]
    }
   ],
   "source": [
    "model.summary()\n"
   ]
  },
  {
   "cell_type": "code",
   "execution_count": 40,
   "metadata": {
    "scrolled": true
   },
   "outputs": [
    {
     "name": "stderr",
     "output_type": "stream",
     "text": [
      "/anaconda3/lib/python3.6/site-packages/tensorflow/python/ops/gradients_impl.py:108: UserWarning: Converting sparse IndexedSlices to a dense Tensor of unknown shape. This may consume a large amount of memory.\n",
      "  \"Converting sparse IndexedSlices to a dense Tensor of unknown shape. \"\n",
      "/anaconda3/lib/python3.6/site-packages/tensorflow/python/util/tf_inspect.py:75: DeprecationWarning: inspect.getargspec() is deprecated, use inspect.signature() or inspect.getfullargspec()\n",
      "  return _inspect.getargspec(target)\n"
     ]
    },
    {
     "name": "stdout",
     "output_type": "stream",
     "text": [
      "Train on 11155 samples, validate on 588 samples\n",
      "Epoch 1/10\n",
      "11155/11155 [==============================] - 71s 6ms/step - loss: 0.4809 - acc: 0.8238 - val_loss: 0.4691 - val_acc: 0.8197\n",
      "Epoch 2/10\n",
      "11155/11155 [==============================] - 68s 6ms/step - loss: 0.4592 - acc: 0.8238 - val_loss: 0.4553 - val_acc: 0.8197\n",
      "Epoch 3/10\n",
      "11155/11155 [==============================] - 69s 6ms/step - loss: 0.4230 - acc: 0.8258 - val_loss: 0.3716 - val_acc: 0.8418\n",
      "Epoch 4/10\n",
      "11155/11155 [==============================] - 71s 6ms/step - loss: 0.3375 - acc: 0.8577 - val_loss: 0.3129 - val_acc: 0.8673\n",
      "Epoch 5/10\n",
      "11155/11155 [==============================] - 73s 7ms/step - loss: 0.2801 - acc: 0.8851 - val_loss: 0.2769 - val_acc: 0.8793\n",
      "Epoch 6/10\n",
      "11155/11155 [==============================] - 83s 7ms/step - loss: 0.2484 - acc: 0.9037 - val_loss: 0.2574 - val_acc: 0.9014\n",
      "Epoch 7/10\n",
      "11155/11155 [==============================] - 74s 7ms/step - loss: 0.2227 - acc: 0.9135 - val_loss: 0.2792 - val_acc: 0.8878\n",
      "Epoch 8/10\n",
      "11155/11155 [==============================] - 75s 7ms/step - loss: 0.2023 - acc: 0.9232 - val_loss: 0.2789 - val_acc: 0.8912\n",
      "Epoch 9/10\n",
      "11155/11155 [==============================] - 78s 7ms/step - loss: 0.1885 - acc: 0.9314 - val_loss: 0.2730 - val_acc: 0.8895\n",
      "Epoch 10/10\n",
      "11155/11155 [==============================] - 76s 7ms/step - loss: 0.1720 - acc: 0.9371 - val_loss: 0.2847 - val_acc: 0.8929\n"
     ]
    },
    {
     "data": {
      "text/plain": [
       "<tensorflow.python.keras.callbacks.History at 0x1a37be5c88>"
      ]
     },
     "execution_count": 40,
     "metadata": {},
     "output_type": "execute_result"
    }
   ],
   "source": [
    "model.fit(x_train_pad, y_train,\n",
    "          validation_split=0.05, epochs=10, batch_size=64)"
   ]
  },
  {
   "cell_type": "code",
   "execution_count": 41,
   "metadata": {},
   "outputs": [
    {
     "name": "stdout",
     "output_type": "stream",
     "text": [
      "11743/11743 [==============================] - 30s 3ms/step\n"
     ]
    }
   ],
   "source": [
    "result = model.evaluate(x_test_pad, y_test)"
   ]
  },
  {
   "cell_type": "code",
   "execution_count": 42,
   "metadata": {},
   "outputs": [
    {
     "name": "stdout",
     "output_type": "stream",
     "text": [
      "Accuracy: 88.46%\n"
     ]
    }
   ],
   "source": [
    "print(\"Accuracy: {0:.2%}\".format(result[1]))\n"
   ]
  },
  {
   "cell_type": "code",
   "execution_count": 43,
   "metadata": {},
   "outputs": [
    {
     "name": "stderr",
     "output_type": "stream",
     "text": [
      "/anaconda3/lib/python3.6/site-packages/tensorflow/python/util/tf_inspect.py:75: DeprecationWarning: inspect.getargspec() is deprecated, use inspect.signature() or inspect.getfullargspec()\n",
      "  return _inspect.getargspec(target)\n"
     ]
    }
   ],
   "source": [
    "y_pred = model.predict(x=x_test_pad[0:1000])\n",
    "y_pred = y_pred.T[0]"
   ]
  },
  {
   "cell_type": "code",
   "execution_count": 44,
   "metadata": {},
   "outputs": [],
   "source": [
    "cls_pred = np.array([1.0 if p>0.5 else 0.0 for p in y_pred])\n"
   ]
  },
  {
   "cell_type": "code",
   "execution_count": 45,
   "metadata": {},
   "outputs": [],
   "source": [
    "cls_true = np.array(y_test[0:1000])\n"
   ]
  },
  {
   "cell_type": "code",
   "execution_count": 46,
   "metadata": {},
   "outputs": [],
   "source": [
    "incorrect = np.where(cls_pred != cls_true)\n",
    "incorrect = incorrect[0]"
   ]
  },
  {
   "cell_type": "code",
   "execution_count": 47,
   "metadata": {},
   "outputs": [
    {
     "data": {
      "text/plain": [
       "127"
      ]
     },
     "execution_count": 47,
     "metadata": {},
     "output_type": "execute_result"
    }
   ],
   "source": [
    "len(incorrect)\n"
   ]
  },
  {
   "cell_type": "code",
   "execution_count": 48,
   "metadata": {},
   "outputs": [
    {
     "data": {
      "text/plain": [
       "14"
      ]
     },
     "execution_count": 48,
     "metadata": {},
     "output_type": "execute_result"
    }
   ],
   "source": [
    "idx = incorrect[0]\n",
    "idx"
   ]
  },
  {
   "cell_type": "code",
   "execution_count": 49,
   "metadata": {},
   "outputs": [
    {
     "data": {
      "text/plain": [
       "'this is a nice choice for holiday gatherings  i like that the length grazes the knee so it is conservative enough for office related gatherings  the size small fit me well   i am usually a size     with a small bust  in my opinion it runs small and those with larger busts will definitely have to size up  but then perhaps the waist will be too big   the problem with this dress is the quality  the fabrics are terrible  the delicate netting type fabric on the top layer of skirt got stuck in the zip'"
      ]
     },
     "execution_count": 49,
     "metadata": {},
     "output_type": "execute_result"
    }
   ],
   "source": [
    "text = X[idx]\n",
    "text"
   ]
  },
  {
   "cell_type": "code",
   "execution_count": 50,
   "metadata": {},
   "outputs": [
    {
     "data": {
      "text/plain": [
       "0.66259795"
      ]
     },
     "execution_count": 50,
     "metadata": {},
     "output_type": "execute_result"
    }
   ],
   "source": [
    "y_pred[idx]\n"
   ]
  },
  {
   "cell_type": "code",
   "execution_count": 51,
   "metadata": {},
   "outputs": [
    {
     "data": {
      "text/plain": [
       "0"
      ]
     },
     "execution_count": 51,
     "metadata": {},
     "output_type": "execute_result"
    }
   ],
   "source": [
    "cls_true[idx]\n"
   ]
  },
  {
   "cell_type": "code",
   "execution_count": 52,
   "metadata": {},
   "outputs": [],
   "source": [
    "text1 = 'i had such high hopes for this dress and really wanted it to work for me  i initially ordered the petite small  my usual size  but i found this to be outrageously small  so small in fact that i could not zip it up  i reordered it in petite medium  which was just ok  overall  the top half was comfortable and fit nicely  but the bottom half had a very tight under layer and several somewhat cheap  net  over layers  imo  a major design flaw was the net over layer sewn directly into the zipper   it c'\n",
    "text2 = \"Good shoes!\"\n",
    "text3 = \"Maybe I like this dress.\"\n",
    "text4 = \"Meh ...\"\n",
    "text5 = \"If I were a drunk teenager then this shoes might be good.\"\n",
    "text6 = \"wonderful dress!\"\n",
    "text7 =  \" bad dress!\"\n",
    "text8 = \"This dress really sucks! Can I get my money back please?\"\n",
    "texts = [text1, text2, text3, text4, text5, text6, text7, text8]\n"
   ]
  },
  {
   "cell_type": "code",
   "execution_count": 53,
   "metadata": {},
   "outputs": [],
   "source": [
    "tokens = tokenizer.texts_to_sequences(texts)\n"
   ]
  },
  {
   "cell_type": "code",
   "execution_count": 54,
   "metadata": {},
   "outputs": [
    {
     "data": {
      "text/plain": [
       "(8, 119)"
      ]
     },
     "execution_count": 54,
     "metadata": {},
     "output_type": "execute_result"
    }
   ],
   "source": [
    "tokens_pad = pad_sequences(tokens, maxlen=max_tokens,\n",
    "                           padding=pad, truncating=pad)\n",
    "tokens_pad.shape"
   ]
  },
  {
   "cell_type": "code",
   "execution_count": 55,
   "metadata": {},
   "outputs": [
    {
     "data": {
      "text/plain": [
       "array([[0.2028821 ],\n",
       "       [0.97472477],\n",
       "       [0.70829415],\n",
       "       [0.91254777],\n",
       "       [0.33958483],\n",
       "       [0.96855867],\n",
       "       [0.5102551 ],\n",
       "       [0.4076098 ]], dtype=float32)"
      ]
     },
     "execution_count": 55,
     "metadata": {},
     "output_type": "execute_result"
    }
   ],
   "source": [
    "model.predict(tokens_pad)\n"
   ]
  },
  {
   "cell_type": "code",
   "execution_count": null,
   "metadata": {},
   "outputs": [],
   "source": []
  }
 ],
 "metadata": {
  "kernelspec": {
   "display_name": "Python 3",
   "language": "python",
   "name": "python3"
  },
  "language_info": {
   "codemirror_mode": {
    "name": "ipython",
    "version": 3
   },
   "file_extension": ".py",
   "mimetype": "text/x-python",
   "name": "python",
   "nbconvert_exporter": "python",
   "pygments_lexer": "ipython3",
   "version": "3.6.7"
  }
 },
 "nbformat": 4,
 "nbformat_minor": 2
}
